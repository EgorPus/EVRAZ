{
  "nbformat": 4,
  "nbformat_minor": 0,
  "metadata": {
    "colab": {
      "name": "ЕВРАЗ .ipynb",
      "provenance": [],
      "collapsed_sections": [
        "H9_1DrJc7wh_",
        "d3M4YUVH72Ej",
        "gZcEB5Zx7_Af",
        "EvyVjVTg8C4P"
      ]
    },
    "kernelspec": {
      "name": "python3",
      "display_name": "Python 3"
    },
    "language_info": {
      "name": "python"
    }
  },
  "cells": [
    {
      "cell_type": "markdown",
      "metadata": {
        "id": "pgh7eQs5MoDF"
      },
      "source": [
        "Если бы у меня было бы больше времени, то можно было бы попробовать внимательнее пройтись по выбросам и проверить несколкько гипотез"
      ]
    },
    {
      "cell_type": "code",
      "metadata": {
        "id": "PWAnPzqZboP0",
        "colab": {
          "base_uri": "https://localhost:8080/"
        },
        "outputId": "5bfe6739-0074-4ddc-c651-1f21e4afb65d"
      },
      "source": [
        "!pip install catboost\n",
        "import pandas as pd\n",
        "import matplotlib.pyplot as plt\n",
        "from sklearn.model_selection import train_test_split\n",
        "from sklearn.metrics import f1_score\n",
        "import catboost\n",
        "from catboost import CatBoostRegressor, Pool"
      ],
      "execution_count": 6,
      "outputs": [
        {
          "output_type": "stream",
          "text": [
            "Requirement already satisfied: catboost in /usr/local/lib/python3.7/dist-packages (0.25.1)\n",
            "Requirement already satisfied: pandas>=0.24.0 in /usr/local/lib/python3.7/dist-packages (from catboost) (1.1.5)\n",
            "Requirement already satisfied: scipy in /usr/local/lib/python3.7/dist-packages (from catboost) (1.4.1)\n",
            "Requirement already satisfied: six in /usr/local/lib/python3.7/dist-packages (from catboost) (1.15.0)\n",
            "Requirement already satisfied: plotly in /usr/local/lib/python3.7/dist-packages (from catboost) (4.4.1)\n",
            "Requirement already satisfied: matplotlib in /usr/local/lib/python3.7/dist-packages (from catboost) (3.2.2)\n",
            "Requirement already satisfied: numpy>=1.16.0 in /usr/local/lib/python3.7/dist-packages (from catboost) (1.19.5)\n",
            "Requirement already satisfied: graphviz in /usr/local/lib/python3.7/dist-packages (from catboost) (0.10.1)\n",
            "Requirement already satisfied: pytz>=2017.2 in /usr/local/lib/python3.7/dist-packages (from pandas>=0.24.0->catboost) (2018.9)\n",
            "Requirement already satisfied: python-dateutil>=2.7.3 in /usr/local/lib/python3.7/dist-packages (from pandas>=0.24.0->catboost) (2.8.1)\n",
            "Requirement already satisfied: retrying>=1.3.3 in /usr/local/lib/python3.7/dist-packages (from plotly->catboost) (1.3.3)\n",
            "Requirement already satisfied: cycler>=0.10 in /usr/local/lib/python3.7/dist-packages (from matplotlib->catboost) (0.10.0)\n",
            "Requirement already satisfied: kiwisolver>=1.0.1 in /usr/local/lib/python3.7/dist-packages (from matplotlib->catboost) (1.3.1)\n",
            "Requirement already satisfied: pyparsing!=2.0.4,!=2.1.2,!=2.1.6,>=2.0.1 in /usr/local/lib/python3.7/dist-packages (from matplotlib->catboost) (2.4.7)\n"
          ],
          "name": "stdout"
        }
      ]
    },
    {
      "cell_type": "markdown",
      "metadata": {
        "id": "gUHsZHsp8PWD"
      },
      "source": [
        "# Подготовка данных"
      ]
    },
    {
      "cell_type": "code",
      "metadata": {
        "id": "m1jP-t3Dbqnj"
      },
      "source": [
        "df=\"Исходные данные.csv\"\n",
        "df = pd.read_csv(df,engine=\"python\",index_col=False, header=None, delimiter=\";\",decimal=\",\")\n",
        "df123=df\n",
        "df=df.drop(df.columns[[0]], axis='columns')\n",
        "df.columns = [\"nplv\",'DT','МАРКА','ПРОФИЛЬ','t_вып-обр','t_обработка','t_под током','t_продувка','ПСН_гр','чист_расход_C','чист_расход_Cr','чист_расход_Mn','чист_расход_Si','чист_расход_V','температура_первая','температура_последняя','Ar_(интенс.)','N2_(интенс.)','эл._энергия_(интенс.)','произв_жидкая_сталь','произв_количество_обработок','произв_количество_плавок','произв_количество_плавок_(цел)','расход_газ_Ar','расход_газ_N2','расход_C_пров.','сыпуч_известь_РП','сыпуч_кварцит','сыпуч_кокс_пыль_УСТК',\t'сыпуч кокс._мелочь_(сух.)',\t'сыпуч кокс._мелочь КМ1',\t'сыпучшпат_плав',\t'ферспл_CaC2',\t'ферспл_FeMo','ферспл_FeSi-75',\t'ферспл_FeV_азот.',\t'ферспл_FeV-80',\t'ферспл_Mn5Si65Al0.5',\t'ферспл Ni_H1_пласт.',\t'ферспл_SiMn18','ферспл_ферванит','ферспл_фх850А','эл._энергия','химсталь_первый_A1_1','химсталь_первый_C_1','химсталь_первый_Cr_1','химсталь_первый_Cu_1','химсталь_первый Mn_1','химсталь_первый Mo_1','химсталь_первый_N_1','химсталь_первый_Ni_1','химсталь_первый_P_1','химсталь_первый_S_1','химсталь_первый_Si_1','химсталь_первый_Ti_1','химсталь_первый_V_1','химсталь_последний_Al','химсталь_последний_C','химсталь_последний_Ca','химсталь_последний_Cr','химсталь_последний_Cu','химсталь_последний_Mn','химсталь_последний_Mo','химсталь_последний_N','химсталь_последний_Ni','химсталь_последний_P','химсталь_последний_S','химсталь_последний_Si','химсталь_последний_Ti','химсталь_последний_V','химшлак_первый_Al2O3_1','химшлак_первый_CaO_1','химшлак_первый_FeO_1','химшлак_первый_MgO_1','химшлак_первый_MnO_1','химшлак_первый_R_1','химшлак_первый_SiO2_1','химшлак_последний_Al2O3','химшлак_последний_CaO','химшлак_последний_FeO','химшлак_последний_MgO','химшлак_последний_MnO','химшлак_последний_R','химшлак_последний_SiO2']\n",
        "df = df.drop(index=[0])\n",
        "df = df.reset_index(drop=True)\n",
        "all_coll = list(df.columns)\n",
        "for elem in all_coll[3:84]:\n",
        "    df = df.fillna(value={f'{elem}': 0.0})\n",
        "a=['t_вып-обр','t_обработка','t_под током','t_продувка','ПСН_гр','чист_расход_C','чист_расход_Cr','чист_расход_Mn','чист_расход_Si','чист_расход_V','температура_первая','температура_последняя','Ar_(интенс.)','N2_(интенс.)','эл._энергия_(интенс.)','произв_жидкая_сталь','произв_количество_обработок','произв_количество_плавок','произв_количество_плавок_(цел)','расход_газ_Ar','расход_газ_N2','расход_C_пров.','сыпуч_известь_РП','сыпуч_кварцит','сыпуч_кокс_пыль_УСТК',\t'сыпуч кокс._мелочь_(сух.)',\t'сыпуч кокс._мелочь КМ1',\t'сыпучшпат_плав',\t'ферспл_CaC2',\t'ферспл_FeMo','ферспл_FeSi-75',\t'ферспл_FeV_азот.',\t'ферспл_FeV-80',\t'ферспл_Mn5Si65Al0.5',\t'ферспл Ni_H1_пласт.',\t'ферспл_SiMn18','ферспл_ферванит','ферспл_фх850А','эл._энергия','химсталь_первый_A1_1','химсталь_первый_C_1','химсталь_первый_Cr_1','химсталь_первый_Cu_1','химсталь_первый Mn_1','химсталь_первый Mo_1','химсталь_первый_N_1','химсталь_первый_Ni_1','химсталь_первый_P_1','химсталь_первый_S_1','химсталь_первый_Si_1','химсталь_первый_Ti_1','химсталь_первый_V_1','химсталь_последний_Al','химсталь_последний_C','химсталь_последний_Ca','химсталь_последний_Cr','химсталь_последний_Cu','химсталь_последний_Mn','химсталь_последний_Mo','химсталь_последний_N','химсталь_последний_Ni','химсталь_последний_P','химсталь_последний_S','химсталь_последний_Si','химсталь_последний_Ti','химсталь_последний_V','химшлак_первый_Al2O3_1','химшлак_первый_CaO_1','химшлак_первый_FeO_1','химшлак_первый_MgO_1','химшлак_первый_MnO_1','химшлак_первый_R_1','химшлак_первый_SiO2_1','химшлак_последний_Al2O3','химшлак_последний_CaO','химшлак_последний_FeO','химшлак_последний_MgO','химшлак_последний_MnO','химшлак_последний_R','химшлак_последний_SiO2']\n",
        "b=[\"nplv\",'DT','МАРКА','ПРОФИЛЬ']\n",
        "df1=df\n",
        "df2=df\n",
        "df1=df1.drop([\"nplv\",'DT','МАРКА','ПРОФИЛЬ'], axis=1)\n",
        "df2=df2.drop(['t_вып-обр','t_обработка','t_под током','t_продувка','ПСН_гр','чист_расход_C','чист_расход_Cr','чист_расход_Mn','чист_расход_Si','чист_расход_V','температура_первая','температура_последняя','Ar_(интенс.)','N2_(интенс.)','эл._энергия_(интенс.)','произв_жидкая_сталь','произв_количество_обработок','произв_количество_плавок','произв_количество_плавок_(цел)','расход_газ_Ar','расход_газ_N2','расход_C_пров.','сыпуч_известь_РП','сыпуч_кварцит','сыпуч_кокс_пыль_УСТК',\t'сыпуч кокс._мелочь_(сух.)',\t'сыпуч кокс._мелочь КМ1',\t'сыпучшпат_плав',\t'ферспл_CaC2',\t'ферспл_FeMo','ферспл_FeSi-75',\t'ферспл_FeV_азот.',\t'ферспл_FeV-80',\t'ферспл_Mn5Si65Al0.5',\t'ферспл Ni_H1_пласт.',\t'ферспл_SiMn18','ферспл_ферванит','ферспл_фх850А','эл._энергия','химсталь_первый_A1_1','химсталь_первый_C_1','химсталь_первый_Cr_1','химсталь_первый_Cu_1','химсталь_первый Mn_1','химсталь_первый Mo_1','химсталь_первый_N_1','химсталь_первый_Ni_1','химсталь_первый_P_1','химсталь_первый_S_1','химсталь_первый_Si_1','химсталь_первый_Ti_1','химсталь_первый_V_1','химсталь_последний_Al','химсталь_последний_C','химсталь_последний_Ca','химсталь_последний_Cr','химсталь_последний_Cu','химсталь_последний_Mn','химсталь_последний_Mo','химсталь_последний_N','химсталь_последний_Ni','химсталь_последний_P','химсталь_последний_S','химсталь_последний_Si','химсталь_последний_Ti','химсталь_последний_V','химшлак_первый_Al2O3_1','химшлак_первый_CaO_1','химшлак_первый_FeO_1','химшлак_первый_MgO_1','химшлак_первый_MnO_1','химшлак_первый_R_1','химшлак_первый_SiO2_1','химшлак_последний_Al2O3','химшлак_последний_CaO','химшлак_последний_FeO','химшлак_последний_MgO','химшлак_последний_MnO','химшлак_последний_R','химшлак_последний_SiO2'], axis=1)\n",
        "for i in range(len(a)):\n",
        "  k=a[i]\n",
        "  df1[k] = df1[k].astype(float)\n",
        "df1=df1.abs()\n",
        "for q in range(len(b)):\n",
        "  l=b[q]\n",
        "  df2[l] = df2[l].astype(str)\n",
        "df=pd.concat([df2,df1],axis=1)\n",
        "df=df.loc[(df['МАРКА'] == 'Э76ХФ')]\n",
        "df=df.drop(['N2_(интенс.)','расход_газ_N2','ферспл_FeMo','ферспл_FeSi-75','ферспл_FeV_азот.','ферспл Ni_H1_пласт.','ферспл_ферванит'], axis=1)\n",
        "df['t_обработка'] = (\n",
        "    df['t_обработка']+df['t_продувка'])/2\n",
        "df =df.drop(['t_продувка'], 1)\n",
        "df.rename(columns = {'t_обработка':'t_обработка_продувка'}, inplace = True)\n",
        "df['эл._энергия'] = (\n",
        "    df['эл._энергия']+df['t_под током'])/2\n",
        "df =df.drop(['t_под током'], 1)\n",
        "df.rename(columns = {'эл._энергия':'t_под током_эл._энергия'}, inplace = True)\n",
        "df['ферспл_фх850А'] = (\n",
        "    df['ферспл_фх850А']+df['чист_расход_Cr'])/2\n",
        "df =df.drop(['чист_расход_Cr'], 1)\n",
        "df.rename(columns = {'ферспл_фх850А':'чист_расход_Cr'}, inplace = True)\n",
        "df['ферспл_SiMn18'] = (\n",
        "    df['ферспл_SiMn18']+df['чист_расход_Mn'])/2\n",
        "df =df.drop(['чист_расход_Mn'], 1)\n",
        "df.rename(columns = {'ферспл_SiMn18':'чист_расход_Mn'}, inplace = True)\n",
        "df['ферспл_Mn5Si65Al0.5'] = (\n",
        "    df['ферспл_Mn5Si65Al0.5']+df['чист_расход_Si'])/2\n",
        "df =df.drop(['чист_расход_Si'], 1)\n",
        "df.rename(columns = {'ферспл_Mn5Si65Al0.5':'чист_расход_Si'}, inplace = True)\n",
        "df['ферспл_FeV-80'] = (\n",
        "    df['ферспл_FeV-80']+df['чист_расход_V'])/2\n",
        "df =df.drop(['чист_расход_V'], 1)\n",
        "df.rename(columns = {'ферспл_FeV-80':'чист_расход_V'}, inplace = True)\n",
        "df['температура_первая'] = (\n",
        "    df['температура_первая']+df['температура_последняя'])/2\n",
        "df =df.drop(['температура_последняя'], 1)\n",
        "df.rename(columns = {'температура_первая':'температура'}, inplace = True)\n",
        "df['произв_количество_плавок'] = (\n",
        "    df['произв_количество_плавок']+df['произв_количество_плавок_(цел)'])/2\n",
        "df =df.drop(['произв_количество_плавок'], 1)\n",
        "df.rename(columns = {'произв_количество_плавок_(цел)':'произв_количество_плавок'}, inplace = True)\n",
        "df =df.drop(['сыпуч_кварцит'], 1)\n",
        "df =df.drop(['сыпуч кокс._мелочь_(сух.)'], 1)\n",
        "df=df.loc[(df['температура'] != 0.0)]\n",
        "df=df.loc[(df['чист_расход_C'] != 0.0)]\n",
        "df.loc[df['t_под током_эл._энергия'] > 4500, 't_под током_эл._энергия'] = 2500\n",
        "df['ПСН_гр']=df['ПСН_гр'].round(0)\n",
        "df['ПСН_гр']=df['ПСН_гр'].replace(7.0,6.0)\n",
        "df.loc[df['t_вып-обр'] > 80, 't_вып-обр'] = 25\n",
        "df.loc[df['t_под током_эл._энергия'] < 800, 't_под током_эл._энергия'] = 1500\n",
        "df.loc[df['t_обработка_продувка']>200, 't_обработка_продувка'] = 42\n",
        "df.loc[df['t_обработка_продувка']>140, 't_обработка_продувка'] = 26\n",
        "df.loc[df['эл._энергия_(интенс.)']>16000, 'эл._энергия_(интенс.)'] = 13000\n",
        "df.loc[df['эл._энергия_(интенс.)']<8300, 'эл._энергия_(интенс.)'] = 12800\n",
        "df.loc[df['произв_жидкая_сталь']>150, 'произв_жидкая_сталь'] = 117\n",
        "df.loc[df['произв_жидкая_сталь']<103, 'произв_жидкая_сталь'] = 112\n",
        "df.loc[df['расход_газ_Ar']>=45, 'расход_газ_Ar'] = 27\n",
        "df.loc[df['сыпучшпат_плав']>=0.15, 'сыпучшпат_плав'] = 0.09\n",
        "df.loc[df['сыпуч кокс._мелочь КМ1']>=0.7, 'сыпуч кокс._мелочь КМ1'] = 0.47\n",
        "df.loc[df['чист_расход_Mn']>=0.35, 'чист_расход_Mn'] = 0.15\n",
        "df.loc[df['чист_расход_Si']>=0.3, 'чист_расход_Si'] = 0.17\n",
        "df.loc[df['химсталь_последний_Mo']>=0.16, 'химсталь_последний_Mo'] = 0.1\n",
        "df.loc[df['химсталь_последний_Ni']>=0.11, 'химсталь_последний_Ni'] = 0.07\n",
        "df.loc[df['химсталь_последний_V']>=0.043, 'химсталь_последний_V'] = 0.036\n",
        "df.loc[df['химсталь_последний_V']<=0.03, 'химсталь_последний_V'] = 0.034\n",
        "df.loc[df['химшлак_первый_Al2O3_1']==0, 'химшлак_первый_Al2O3_1'] = 3.8\n",
        "df.loc[df['химшлак_первый_Al2O3_1']>=7.8, 'химшлак_первый_Al2O3_1'] = 5\n",
        "df.loc[df['химшлак_первый_CaO_1']>=67, 'химшлак_первый_CaO_1'] = 57\n",
        "df.loc[df['химшлак_первый_CaO_1']<=37, 'химшлак_первый_CaO_1'] = 52\n",
        "df.loc[df['химшлак_первый_FeO_1']>=3.4, 'химшлак_первый_FeO_1'] = 1\n",
        "df.loc[df['химшлак_первый_MgO_1']>=25, 'химшлак_первый_MgO_1'] = 17\n",
        "df.loc[df['химшлак_первый_MnO_1']>=2, 'химшлак_первый_MnO_1'] = 0.2\n",
        "df.loc[df['химшлак_последний_Al2O3']>=9, 'химшлак_последний_Al2O3'] = 3\n",
        "df.loc[df['химшлак_последний_FeO']>1, 'химшлак_последний_FeO'] = 0.2\n",
        "df.loc[df['химшлак_последний_MgO']>18, 'химшлак_последний_MgO'] = 12\n",
        "df.loc[df['химшлак_последний_MnO']>0.39, 'химшлак_последний_MnO'] = 0.12\n",
        "df.loc[df['химшлак_последний_R']>2.8, 'химшлак_последний_R'] = 2.4\n",
        "df.loc[df['химшлак_последний_R']<2.0, 'химшлак_последний_R'] = 2.4"
      ],
      "execution_count": 7,
      "outputs": []
    },
    {
      "cell_type": "markdown",
      "metadata": {
        "id": "H9_1DrJc7wh_"
      },
      "source": [
        "# Прогнозирование химшлак последний Al2O3"
      ]
    },
    {
      "cell_type": "code",
      "metadata": {
        "id": "EoWXbz8_PSW1"
      },
      "source": [
        "df_al=df1.drop([\"химшлак последний CaO\",'химшлак последний R','химшлак последний SiO2'], axis=1)\n",
        "test, train = df_al[:323], df_al[323:]\n",
        "train.shape, test.shape\n",
        "train_target = train['химшлак последний Al2O3']\n",
        "test_target = test['химшлак последний Al2O3']\n",
        "train = train.drop('химшлак последний Al2O3', axis=1)\n",
        "test = test.drop('химшлак последний Al2O3', axis=1)\n",
        "model = CatBoostRegressor(iterations=20000, random_state=42,\n",
        "                          task_type=\"GPU\", loss_function=\"RMSE\", learning_rate=0.03)\n",
        "train_dataset = Pool(df_al=train,\n",
        "                     label=train_target)\n",
        "test_dataset = Pool(df_al=test,\n",
        "                    label=test_target)\n",
        "model.fit(train, train_target)\n",
        "preds = model.predict(test_dataset)"
      ],
      "execution_count": null,
      "outputs": []
    },
    {
      "cell_type": "markdown",
      "metadata": {
        "id": "d3M4YUVH72Ej"
      },
      "source": [
        "# Прогнозирование химшлак последний CaO"
      ]
    },
    {
      "cell_type": "code",
      "metadata": {
        "id": "Mq7YiD0c7-FD"
      },
      "source": [
        "df_cao=df1.drop([\"химшлак последний Al2O3\",'химшлак последний R','химшлак последний SiO2'], axis=1)\n",
        "test, train = df_cao[:323], df_cao[323:]\n",
        "train.shape, test.shape\n",
        "train_target = train['химшлак последний CaO']\n",
        "test_target = test['химшлак последний CaO']\n",
        "train = train.drop('химшлак последний CaO', axis=1)\n",
        "test = test.drop('химшлак последний CaO', axis=1)\n",
        "model = CatBoostRegressor(iterations=20000, random_state=42,\n",
        "                          task_type=\"GPU\", loss_function=\"RMSE\", learning_rate=0.03)\n",
        "train_dataset = Pool(df_cao=train,\n",
        "                     label=train_target)\n",
        "test_dataset = Pool(df_cao=test,\n",
        "                    label=test_target)\n",
        "model.fit(train, train_target)\n",
        "preds = model.predict(test_dataset)"
      ],
      "execution_count": null,
      "outputs": []
    },
    {
      "cell_type": "markdown",
      "metadata": {
        "id": "gZcEB5Zx7_Af"
      },
      "source": [
        "# Прогнозирование химшлак последний R"
      ]
    },
    {
      "cell_type": "code",
      "metadata": {
        "id": "5fc4YLkb8CUW"
      },
      "source": [
        "df_r=df1.drop([\"химшлак последний Al2O3\",'химшлак последний CaO','химшлак последний SiO2'], axis=1)\n",
        "test, train = df_r[:323], df_r[323:]\n",
        "train.shape, test.shape\n",
        "train_target = train['химшлак последний R']\n",
        "test_target = test['химшлак последний R']\n",
        "train = train.drop('химшлак последний R', axis=1)\n",
        "test = test.drop('химшлак последний R', axis=1)\n",
        "model = CatBoostRegressor(iterations=20000, random_state=42,\n",
        "                          task_type=\"GPU\", loss_function=\"RMSE\", learning_rate=0.03)\n",
        "train_dataset = Pool(df_r=train,\n",
        "                     label=train_target)\n",
        "test_dataset = Pool(df_r=test,\n",
        "                    label=test_target)\n",
        "model.fit(train, train_target)\n",
        "preds = model.predict(test_dataset)"
      ],
      "execution_count": null,
      "outputs": []
    },
    {
      "cell_type": "markdown",
      "metadata": {
        "id": "EvyVjVTg8C4P"
      },
      "source": [
        "# Прогнозирование химшлак последний SiO2"
      ]
    },
    {
      "cell_type": "code",
      "metadata": {
        "id": "KKczzsOm8LAD"
      },
      "source": [
        "df_sio2=df1.drop([\"химшлак последний Al2O3\",'химшлак последний CaO','химшлак последний R'], axis=1)\n",
        "test, train = df_sio2[:323], df_sio2[323:]\n",
        "train.shape, test.shape\n",
        "train_target = train['химшлак последний SiO2']\n",
        "test_target = test['химшлак последний SiO2']\n",
        "train = train.drop('химшлак последний SiO2', axis=1)\n",
        "test = test.drop('химшлак последний SiO2', axis=1)\n",
        "model = CatBoostRegressor(iterations=20000, random_state=42,\n",
        "                          task_type=\"GPU\", loss_function=\"RMSE\", learning_rate=0.03)\n",
        "train_dataset = Pool(df_sio2=train,\n",
        "                     label=train_target)\n",
        "test_dataset = Pool(df_sio2=test,\n",
        "                    label=test_target)\n",
        "model.fit(train, train_target)\n",
        "preds = model.predict(test_dataset)"
      ],
      "execution_count": null,
      "outputs": []
    }
  ]
}